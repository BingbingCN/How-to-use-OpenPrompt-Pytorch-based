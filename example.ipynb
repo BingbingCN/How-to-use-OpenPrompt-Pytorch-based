{
 "cells": [
  {
   "cell_type": "code",
   "execution_count": 1,
   "outputs": [],
   "source": [
    "import pandas as pd\n",
    "from openprompt.data_utils import InputExample\n",
    "classes = [ # There are two classes in Sentiment Analysis, one for negative and one for positive\n",
    "    \"negative\",\n",
    "    \"positive\"\n",
    "]\n",
    "dataset = [ # For simplicity, there's only two examples\n",
    "    # text_a is the input text of the data, some other datasets may have multiple input sentences in one example.\n",
    "    InputExample(\n",
    "        guid = 0,\n",
    "        text_a = \"Albert Einstein was one of the greatest intellects of his time.\",\n",
    "    ),\n",
    "    InputExample(\n",
    "        guid = 1,\n",
    "        text_a = \"The film was badly made.\",\n",
    "    ),\n",
    "]"
   ],
   "metadata": {
    "collapsed": false
   }
  },
  {
   "cell_type": "code",
   "execution_count": 2,
   "outputs": [
    {
     "name": "stderr",
     "output_type": "stream",
     "text": [
      "Some weights of the model checkpoint at bert-base-cased were not used when initializing BertForMaskedLM: ['cls.seq_relationship.bias', 'cls.seq_relationship.weight']\n",
      "- This IS expected if you are initializing BertForMaskedLM from the checkpoint of a model trained on another task or with another architecture (e.g. initializing a BertForSequenceClassification model from a BertForPreTraining model).\n",
      "- This IS NOT expected if you are initializing BertForMaskedLM from the checkpoint of a model that you expect to be exactly identical (initializing a BertForSequenceClassification model from a BertForSequenceClassification model).\n"
     ]
    }
   ],
   "source": [
    "from openprompt.plms import load_plm\n",
    "plm, tokenizer, model_config, WrapperClass = load_plm(\"bert\", \"bert-base-cased\")"
   ],
   "metadata": {
    "collapsed": false
   }
  },
  {
   "cell_type": "code",
   "execution_count": 3,
   "outputs": [],
   "source": [
    "from openprompt.prompts import ManualTemplate\n",
    "promptTemplate = ManualTemplate(\n",
    "    text = '{\"placeholder\":\"text_a\"} It was {\"mask\"}',\n",
    "    tokenizer = tokenizer,\n",
    ")"
   ],
   "metadata": {
    "collapsed": false
   }
  },
  {
   "cell_type": "code",
   "execution_count": 4,
   "outputs": [],
   "source": [
    "from openprompt.prompts import ManualVerbalizer\n",
    "promptVerbalizer = ManualVerbalizer(\n",
    "    classes = classes,\n",
    "    label_words = {\n",
    "        \"negative\": [\"bad\"],\n",
    "        \"positive\": [\"good\", \"wonderful\", \"great\"],\n",
    "    },\n",
    "    tokenizer = tokenizer,\n",
    ")"
   ],
   "metadata": {
    "collapsed": false
   }
  },
  {
   "cell_type": "code",
   "execution_count": 5,
   "outputs": [],
   "source": [
    "from openprompt import PromptForClassification\n",
    "promptModel = PromptForClassification(\n",
    "    template = promptTemplate,\n",
    "    plm = plm,\n",
    "    verbalizer = promptVerbalizer,\n",
    ")"
   ],
   "metadata": {
    "collapsed": false
   }
  },
  {
   "cell_type": "code",
   "execution_count": 6,
   "outputs": [
    {
     "name": "stderr",
     "output_type": "stream",
     "text": [
      "tokenizing: 2it [00:00, ?it/s]\n"
     ]
    }
   ],
   "source": [
    "from openprompt import PromptDataLoader\n",
    "data_loader = PromptDataLoader(\n",
    "    dataset = dataset,\n",
    "    tokenizer = tokenizer,\n",
    "    template = promptTemplate,\n",
    "    tokenizer_wrapper_class=WrapperClass,\n",
    ")"
   ],
   "metadata": {
    "collapsed": false
   }
  },
  {
   "cell_type": "code",
   "execution_count": 7,
   "outputs": [
    {
     "name": "stdout",
     "output_type": "stream",
     "text": [
      "positive\n",
      "negative\n"
     ]
    }
   ],
   "source": [
    "import torch\n",
    "# making zero-shot inference using pretrained MLM with prompt\n",
    "promptModel.eval()\n",
    "with torch.no_grad():\n",
    "    for batch in data_loader:\n",
    "        logits = promptModel(batch)\n",
    "        preds = torch.argmax(logits, dim = -1)\n",
    "        print(classes[preds])\n",
    "# predictions would be 1, 0 for classes 'positive', 'negative'"
   ],
   "metadata": {
    "collapsed": false
   }
  },
  {
   "cell_type": "code",
   "execution_count": 8,
   "outputs": [
    {
     "name": "stderr",
     "output_type": "stream",
     "text": [
      "Found cached dataset super_glue (C:/Users/cq906/.cache/huggingface/datasets/super_glue/cb/1.0.3/bb9675f958ebfee0d5d6dc5476fafe38c79123727a7258d515c450873dbdbbed)\n"
     ]
    },
    {
     "data": {
      "text/plain": "  0%|          | 0/3 [00:00<?, ?it/s]",
      "application/vnd.jupyter.widget-view+json": {
       "version_major": 2,
       "version_minor": 0,
       "model_id": "5edf8ef600a947889c96b4aa933c9a34"
      }
     },
     "metadata": {},
     "output_type": "display_data"
    },
    {
     "name": "stdout",
     "output_type": "stream",
     "text": [
      "{\n",
      "  \"guid\": 0,\n",
      "  \"label\": 0,\n",
      "  \"meta\": {},\n",
      "  \"text_a\": \"It was a complex language. Not written down but handed down. One might say it was peeled down.\",\n",
      "  \"text_b\": \"the language was peeled down\",\n",
      "  \"tgt_text\": null\n",
      "}\n",
      "\n"
     ]
    }
   ],
   "source": [
    "from datasets import load_dataset\n",
    "from openprompt.data_utils import InputExample\n",
    "from transformers import  AdamW, get_linear_schedule_with_warmup\n",
    "from openprompt.prompts import MixedTemplate\n",
    "from openprompt import PromptDataLoader\n",
    "from openprompt import PromptForClassification\n",
    "from openprompt.prompts import ManualVerbalizer\n",
    "import torch\n",
    "from pprint import pprint\n",
    "raw_dataset = load_dataset('super_glue', 'cb')\n",
    "dataset = {}\n",
    "for split in ['train', 'validation', 'test']:\n",
    "    dataset[split] = []\n",
    "    for data in raw_dataset[split]:\n",
    "        input_example = InputExample(text_a = data['premise'], text_b = data['hypothesis'], label=int(data['label']), guid=data['idx'])\n",
    "        dataset[split].append(input_example)\n",
    "print(dataset['train'][0])"
   ],
   "metadata": {
    "collapsed": false
   }
  },
  {
   "cell_type": "code",
   "execution_count": 9,
   "outputs": [
    {
     "name": "stdout",
     "output_type": "stream",
     "text": [
      "[[{'loss_ids': 0,\n",
      "   'shortenable_ids': 1,\n",
      "   'soft_token_ids': 0,\n",
      "   'text': 'It was a complex language. Not written down but handed down. One '\n",
      "           'might say it was peeled down.'},\n",
      "  {'loss_ids': 0, 'shortenable_ids': 0, 'soft_token_ids': 1, 'text': ''},\n",
      "  {'loss_ids': 0, 'shortenable_ids': 0, 'soft_token_ids': 2, 'text': ''},\n",
      "  {'loss_ids': 0, 'shortenable_ids': 0, 'soft_token_ids': 3, 'text': ''},\n",
      "  {'loss_ids': 0,\n",
      "   'shortenable_ids': 1,\n",
      "   'soft_token_ids': 0,\n",
      "   'text': ' the language was peeled down'},\n",
      "  {'loss_ids': 0, 'shortenable_ids': 0, 'soft_token_ids': 4, 'text': ''},\n",
      "  {'loss_ids': 1, 'shortenable_ids': 0, 'soft_token_ids': 0, 'text': '<mask>'},\n",
      "  {'loss_ids': 0, 'shortenable_ids': 0, 'soft_token_ids': 0, 'text': '.'}],\n",
      " {'guid': 0, 'label': 0}]\n"
     ]
    },
    {
     "name": "stderr",
     "output_type": "stream",
     "text": [
      "C:\\Users\\cq906\\File\\Anaconda\\anaconda3\\envs\\NLP\\lib\\site-packages\\transformers\\models\\t5\\tokenization_t5.py:164: FutureWarning: This tokenizer was incorrectly instantiated with a model max length of 512 which will be corrected in Transformers v5.\n",
      "For now, this behavior is kept to avoid breaking backwards compatibility when padding/encoding with `truncation is True`.\n",
      "- Be aware that you SHOULD NOT rely on t5-base automatically truncating your input to 512 when padding/encoding.\n",
      "- If you want to encode/pad to sequences longer than 512 you can either instantiate this tokenizer with `model_max_length` or pass `max_length` when encoding/padding.\n",
      "- To avoid this warning, please instantiate this tokenizer with `model_max_length` set to your preferred value.\n",
      "  warnings.warn(\n"
     ]
    }
   ],
   "source": [
    "plm, tokenizer, model_config, WrapperClass = load_plm(\"t5\", \"t5-base\")\n",
    "mytemplate1 = MixedTemplate(model=plm, tokenizer=tokenizer, text='{\"placeholder\":\"text_a\"} {\"soft\": \"Question:\"} {\"placeholder\":\"text_b\"}? Is it correct? {\"mask\"}.')\n",
    "mytemplate = MixedTemplate(model=plm, tokenizer=tokenizer, text='{\"placeholder\":\"text_a\"} {\"soft\"} {\"soft\"} {\"soft\"} {\"placeholder\":\"text_b\"} {\"soft\"} {\"mask\"}.')\n",
    "wrapped_example = mytemplate.wrap_one_example(dataset['train'][0])\n",
    "pprint(wrapped_example)"
   ],
   "metadata": {
    "collapsed": false
   }
  },
  {
   "cell_type": "code",
   "execution_count": 10,
   "outputs": [
    {
     "name": "stderr",
     "output_type": "stream",
     "text": [
      "tokenizing: 250it [00:00, 1106.53it/s]\n",
      "tokenizing: 56it [00:00, 1182.11it/s]\n"
     ]
    }
   ],
   "source": [
    "wrapped_t5tokenizer=WrapperClass(max_seq_length=128,decoder_max_length=3,tokenizer=tokenizer,truncate_method='head')\n",
    "train_dataloader = PromptDataLoader(dataset=dataset[\"train\"], template=mytemplate1, tokenizer=tokenizer,\n",
    "    tokenizer_wrapper_class=WrapperClass, max_seq_length=256, decoder_max_length=3,\n",
    "    batch_size=8,shuffle=True, teacher_forcing=False, predict_eos_token=False,\n",
    "    truncate_method=\"head\")\n",
    "validation_dataloader = PromptDataLoader(dataset=dataset[\"validation\"], template=mytemplate1, tokenizer=tokenizer,\n",
    "    tokenizer_wrapper_class=WrapperClass, max_seq_length=256, decoder_max_length=3,\n",
    "    batch_size=8,shuffle=False, teacher_forcing=False, predict_eos_token=False,\n",
    "    truncate_method=\"head\")"
   ],
   "metadata": {
    "collapsed": false
   }
  },
  {
   "cell_type": "markdown",
   "source": [],
   "metadata": {
    "collapsed": false
   }
  },
  {
   "cell_type": "code",
   "execution_count": 11,
   "outputs": [
    {
     "name": "stdout",
     "output_type": "stream",
     "text": [
      "Parameter containing:\n",
      "tensor([[[4273]],\n",
      "\n",
      "        [[ 150]],\n",
      "\n",
      "        [[2087]]])\n",
      "Vocab length: 32100\n",
      "For each kind of possibility:\n"
     ]
    },
    {
     "data": {
      "text/plain": "tensor([[-1.2468, -1.2651, -0.8431],\n        [-0.1947, -2.0512, -3.0297]])"
     },
     "execution_count": 11,
     "metadata": {},
     "output_type": "execute_result"
    }
   ],
   "source": [
    "#define verbalizer : mapping from logits on the vocabulary to the final label probability\n",
    "myverbalizer = ManualVerbalizer(tokenizer, num_classes=3,\n",
    "                        label_words=[[\"yes\"], [\"no\"], [\"maybe\"]])\n",
    "print(myverbalizer.label_words_ids)\n",
    "logits = torch.randn(2,len(tokenizer)) # creating a pseudo output from the plm\n",
    "print('Vocab length:',len(tokenizer))\n",
    "print('For each kind of possibility:')\n",
    "myverbalizer.process_logits(logits)"
   ],
   "metadata": {
    "collapsed": false
   }
  },
  {
   "cell_type": "code",
   "execution_count": 12,
   "outputs": [],
   "source": [
    "use_cuda = True\n",
    "prompt_model = PromptForClassification(plm=plm,template=mytemplate, verbalizer=myverbalizer, freeze_plm=False)\n",
    "if use_cuda:\n",
    "    prompt_model=  prompt_model.cuda()"
   ],
   "metadata": {
    "collapsed": false
   }
  },
  {
   "cell_type": "code",
   "execution_count": 13,
   "outputs": [],
   "source": [
    "loss_func=torch.nn.CrossEntropyLoss()\n",
    "no_decay=['bias', 'LayerNorm.weight']\n",
    "# it's always good practice to set no decay to biase and LayerNorm parameters\n",
    "optimizer_grouped_parameters1 = [\n",
    "    {'params': [p for n, p in prompt_model.plm.named_parameters() if not any(nd in n for nd in no_decay)], 'weight_decay': 0.01},\n",
    "    {'params': [p for n, p in prompt_model.plm.named_parameters() if any(nd in n for nd in no_decay)], 'weight_decay': 0.0}\n",
    "]\n",
    "\n",
    "# Using different optimizer for prompt parameters and model parameters\n",
    "optimizer_grouped_parameters2 = [\n",
    "    {'params': [p for n,p in prompt_model.template.named_parameters() if \"raw_embedding\" not in n]}\n",
    "]"
   ],
   "metadata": {
    "collapsed": false
   }
  },
  {
   "cell_type": "code",
   "execution_count": 14,
   "outputs": [
    {
     "name": "stdout",
     "output_type": "stream",
     "text": [
      "prompt_model.plm.shared.weight\n",
      "prompt_model.plm.encoder.block.0.layer.0.SelfAttention.q.weight\n",
      "prompt_model.plm.encoder.block.0.layer.0.SelfAttention.k.weight\n",
      "prompt_model.plm.encoder.block.0.layer.0.SelfAttention.v.weight\n",
      "prompt_model.plm.encoder.block.0.layer.0.SelfAttention.o.weight\n",
      "prompt_model.plm.encoder.block.0.layer.0.SelfAttention.relative_attention_bias.weight\n",
      "prompt_model.plm.encoder.block.0.layer.0.layer_norm.weight\n",
      "prompt_model.plm.encoder.block.0.layer.1.DenseReluDense.wi.weight\n",
      "prompt_model.plm.encoder.block.0.layer.1.DenseReluDense.wo.weight\n",
      "prompt_model.plm.encoder.block.0.layer.1.layer_norm.weight\n",
      "prompt_model.plm.encoder.block.1.layer.0.SelfAttention.q.weight\n",
      "prompt_model.plm.encoder.block.1.layer.0.SelfAttention.k.weight\n",
      "prompt_model.plm.encoder.block.1.layer.0.SelfAttention.v.weight\n",
      "prompt_model.plm.encoder.block.1.layer.0.SelfAttention.o.weight\n",
      "prompt_model.plm.encoder.block.1.layer.0.layer_norm.weight\n",
      "prompt_model.plm.encoder.block.1.layer.1.DenseReluDense.wi.weight\n",
      "prompt_model.plm.encoder.block.1.layer.1.DenseReluDense.wo.weight\n",
      "prompt_model.plm.encoder.block.1.layer.1.layer_norm.weight\n",
      "prompt_model.plm.encoder.block.2.layer.0.SelfAttention.q.weight\n",
      "prompt_model.plm.encoder.block.2.layer.0.SelfAttention.k.weight\n",
      "prompt_model.plm.encoder.block.2.layer.0.SelfAttention.v.weight\n",
      "prompt_model.plm.encoder.block.2.layer.0.SelfAttention.o.weight\n",
      "prompt_model.plm.encoder.block.2.layer.0.layer_norm.weight\n",
      "prompt_model.plm.encoder.block.2.layer.1.DenseReluDense.wi.weight\n",
      "prompt_model.plm.encoder.block.2.layer.1.DenseReluDense.wo.weight\n",
      "prompt_model.plm.encoder.block.2.layer.1.layer_norm.weight\n",
      "prompt_model.plm.encoder.block.3.layer.0.SelfAttention.q.weight\n",
      "prompt_model.plm.encoder.block.3.layer.0.SelfAttention.k.weight\n",
      "prompt_model.plm.encoder.block.3.layer.0.SelfAttention.v.weight\n",
      "prompt_model.plm.encoder.block.3.layer.0.SelfAttention.o.weight\n",
      "prompt_model.plm.encoder.block.3.layer.0.layer_norm.weight\n",
      "prompt_model.plm.encoder.block.3.layer.1.DenseReluDense.wi.weight\n",
      "prompt_model.plm.encoder.block.3.layer.1.DenseReluDense.wo.weight\n",
      "prompt_model.plm.encoder.block.3.layer.1.layer_norm.weight\n",
      "prompt_model.plm.encoder.block.4.layer.0.SelfAttention.q.weight\n",
      "prompt_model.plm.encoder.block.4.layer.0.SelfAttention.k.weight\n",
      "prompt_model.plm.encoder.block.4.layer.0.SelfAttention.v.weight\n",
      "prompt_model.plm.encoder.block.4.layer.0.SelfAttention.o.weight\n",
      "prompt_model.plm.encoder.block.4.layer.0.layer_norm.weight\n",
      "prompt_model.plm.encoder.block.4.layer.1.DenseReluDense.wi.weight\n",
      "prompt_model.plm.encoder.block.4.layer.1.DenseReluDense.wo.weight\n",
      "prompt_model.plm.encoder.block.4.layer.1.layer_norm.weight\n",
      "prompt_model.plm.encoder.block.5.layer.0.SelfAttention.q.weight\n",
      "prompt_model.plm.encoder.block.5.layer.0.SelfAttention.k.weight\n",
      "prompt_model.plm.encoder.block.5.layer.0.SelfAttention.v.weight\n",
      "prompt_model.plm.encoder.block.5.layer.0.SelfAttention.o.weight\n",
      "prompt_model.plm.encoder.block.5.layer.0.layer_norm.weight\n",
      "prompt_model.plm.encoder.block.5.layer.1.DenseReluDense.wi.weight\n",
      "prompt_model.plm.encoder.block.5.layer.1.DenseReluDense.wo.weight\n",
      "prompt_model.plm.encoder.block.5.layer.1.layer_norm.weight\n",
      "prompt_model.plm.encoder.block.6.layer.0.SelfAttention.q.weight\n",
      "prompt_model.plm.encoder.block.6.layer.0.SelfAttention.k.weight\n",
      "prompt_model.plm.encoder.block.6.layer.0.SelfAttention.v.weight\n",
      "prompt_model.plm.encoder.block.6.layer.0.SelfAttention.o.weight\n",
      "prompt_model.plm.encoder.block.6.layer.0.layer_norm.weight\n",
      "prompt_model.plm.encoder.block.6.layer.1.DenseReluDense.wi.weight\n",
      "prompt_model.plm.encoder.block.6.layer.1.DenseReluDense.wo.weight\n",
      "prompt_model.plm.encoder.block.6.layer.1.layer_norm.weight\n",
      "prompt_model.plm.encoder.block.7.layer.0.SelfAttention.q.weight\n",
      "prompt_model.plm.encoder.block.7.layer.0.SelfAttention.k.weight\n",
      "prompt_model.plm.encoder.block.7.layer.0.SelfAttention.v.weight\n",
      "prompt_model.plm.encoder.block.7.layer.0.SelfAttention.o.weight\n",
      "prompt_model.plm.encoder.block.7.layer.0.layer_norm.weight\n",
      "prompt_model.plm.encoder.block.7.layer.1.DenseReluDense.wi.weight\n",
      "prompt_model.plm.encoder.block.7.layer.1.DenseReluDense.wo.weight\n",
      "prompt_model.plm.encoder.block.7.layer.1.layer_norm.weight\n",
      "prompt_model.plm.encoder.block.8.layer.0.SelfAttention.q.weight\n",
      "prompt_model.plm.encoder.block.8.layer.0.SelfAttention.k.weight\n",
      "prompt_model.plm.encoder.block.8.layer.0.SelfAttention.v.weight\n",
      "prompt_model.plm.encoder.block.8.layer.0.SelfAttention.o.weight\n",
      "prompt_model.plm.encoder.block.8.layer.0.layer_norm.weight\n",
      "prompt_model.plm.encoder.block.8.layer.1.DenseReluDense.wi.weight\n",
      "prompt_model.plm.encoder.block.8.layer.1.DenseReluDense.wo.weight\n",
      "prompt_model.plm.encoder.block.8.layer.1.layer_norm.weight\n",
      "prompt_model.plm.encoder.block.9.layer.0.SelfAttention.q.weight\n",
      "prompt_model.plm.encoder.block.9.layer.0.SelfAttention.k.weight\n",
      "prompt_model.plm.encoder.block.9.layer.0.SelfAttention.v.weight\n",
      "prompt_model.plm.encoder.block.9.layer.0.SelfAttention.o.weight\n",
      "prompt_model.plm.encoder.block.9.layer.0.layer_norm.weight\n",
      "prompt_model.plm.encoder.block.9.layer.1.DenseReluDense.wi.weight\n",
      "prompt_model.plm.encoder.block.9.layer.1.DenseReluDense.wo.weight\n",
      "prompt_model.plm.encoder.block.9.layer.1.layer_norm.weight\n",
      "prompt_model.plm.encoder.block.10.layer.0.SelfAttention.q.weight\n",
      "prompt_model.plm.encoder.block.10.layer.0.SelfAttention.k.weight\n",
      "prompt_model.plm.encoder.block.10.layer.0.SelfAttention.v.weight\n",
      "prompt_model.plm.encoder.block.10.layer.0.SelfAttention.o.weight\n",
      "prompt_model.plm.encoder.block.10.layer.0.layer_norm.weight\n",
      "prompt_model.plm.encoder.block.10.layer.1.DenseReluDense.wi.weight\n",
      "prompt_model.plm.encoder.block.10.layer.1.DenseReluDense.wo.weight\n",
      "prompt_model.plm.encoder.block.10.layer.1.layer_norm.weight\n",
      "prompt_model.plm.encoder.block.11.layer.0.SelfAttention.q.weight\n",
      "prompt_model.plm.encoder.block.11.layer.0.SelfAttention.k.weight\n",
      "prompt_model.plm.encoder.block.11.layer.0.SelfAttention.v.weight\n",
      "prompt_model.plm.encoder.block.11.layer.0.SelfAttention.o.weight\n",
      "prompt_model.plm.encoder.block.11.layer.0.layer_norm.weight\n",
      "prompt_model.plm.encoder.block.11.layer.1.DenseReluDense.wi.weight\n",
      "prompt_model.plm.encoder.block.11.layer.1.DenseReluDense.wo.weight\n",
      "prompt_model.plm.encoder.block.11.layer.1.layer_norm.weight\n",
      "prompt_model.plm.encoder.final_layer_norm.weight\n",
      "prompt_model.plm.decoder.block.0.layer.0.SelfAttention.q.weight\n",
      "prompt_model.plm.decoder.block.0.layer.0.SelfAttention.k.weight\n",
      "prompt_model.plm.decoder.block.0.layer.0.SelfAttention.v.weight\n",
      "prompt_model.plm.decoder.block.0.layer.0.SelfAttention.o.weight\n",
      "prompt_model.plm.decoder.block.0.layer.0.SelfAttention.relative_attention_bias.weight\n",
      "prompt_model.plm.decoder.block.0.layer.0.layer_norm.weight\n",
      "prompt_model.plm.decoder.block.0.layer.1.EncDecAttention.q.weight\n",
      "prompt_model.plm.decoder.block.0.layer.1.EncDecAttention.k.weight\n",
      "prompt_model.plm.decoder.block.0.layer.1.EncDecAttention.v.weight\n",
      "prompt_model.plm.decoder.block.0.layer.1.EncDecAttention.o.weight\n",
      "prompt_model.plm.decoder.block.0.layer.1.layer_norm.weight\n",
      "prompt_model.plm.decoder.block.0.layer.2.DenseReluDense.wi.weight\n",
      "prompt_model.plm.decoder.block.0.layer.2.DenseReluDense.wo.weight\n",
      "prompt_model.plm.decoder.block.0.layer.2.layer_norm.weight\n",
      "prompt_model.plm.decoder.block.1.layer.0.SelfAttention.q.weight\n",
      "prompt_model.plm.decoder.block.1.layer.0.SelfAttention.k.weight\n",
      "prompt_model.plm.decoder.block.1.layer.0.SelfAttention.v.weight\n",
      "prompt_model.plm.decoder.block.1.layer.0.SelfAttention.o.weight\n",
      "prompt_model.plm.decoder.block.1.layer.0.layer_norm.weight\n",
      "prompt_model.plm.decoder.block.1.layer.1.EncDecAttention.q.weight\n",
      "prompt_model.plm.decoder.block.1.layer.1.EncDecAttention.k.weight\n",
      "prompt_model.plm.decoder.block.1.layer.1.EncDecAttention.v.weight\n",
      "prompt_model.plm.decoder.block.1.layer.1.EncDecAttention.o.weight\n",
      "prompt_model.plm.decoder.block.1.layer.1.layer_norm.weight\n",
      "prompt_model.plm.decoder.block.1.layer.2.DenseReluDense.wi.weight\n",
      "prompt_model.plm.decoder.block.1.layer.2.DenseReluDense.wo.weight\n",
      "prompt_model.plm.decoder.block.1.layer.2.layer_norm.weight\n",
      "prompt_model.plm.decoder.block.2.layer.0.SelfAttention.q.weight\n",
      "prompt_model.plm.decoder.block.2.layer.0.SelfAttention.k.weight\n",
      "prompt_model.plm.decoder.block.2.layer.0.SelfAttention.v.weight\n",
      "prompt_model.plm.decoder.block.2.layer.0.SelfAttention.o.weight\n",
      "prompt_model.plm.decoder.block.2.layer.0.layer_norm.weight\n",
      "prompt_model.plm.decoder.block.2.layer.1.EncDecAttention.q.weight\n",
      "prompt_model.plm.decoder.block.2.layer.1.EncDecAttention.k.weight\n",
      "prompt_model.plm.decoder.block.2.layer.1.EncDecAttention.v.weight\n",
      "prompt_model.plm.decoder.block.2.layer.1.EncDecAttention.o.weight\n",
      "prompt_model.plm.decoder.block.2.layer.1.layer_norm.weight\n",
      "prompt_model.plm.decoder.block.2.layer.2.DenseReluDense.wi.weight\n",
      "prompt_model.plm.decoder.block.2.layer.2.DenseReluDense.wo.weight\n",
      "prompt_model.plm.decoder.block.2.layer.2.layer_norm.weight\n",
      "prompt_model.plm.decoder.block.3.layer.0.SelfAttention.q.weight\n",
      "prompt_model.plm.decoder.block.3.layer.0.SelfAttention.k.weight\n",
      "prompt_model.plm.decoder.block.3.layer.0.SelfAttention.v.weight\n",
      "prompt_model.plm.decoder.block.3.layer.0.SelfAttention.o.weight\n",
      "prompt_model.plm.decoder.block.3.layer.0.layer_norm.weight\n",
      "prompt_model.plm.decoder.block.3.layer.1.EncDecAttention.q.weight\n",
      "prompt_model.plm.decoder.block.3.layer.1.EncDecAttention.k.weight\n",
      "prompt_model.plm.decoder.block.3.layer.1.EncDecAttention.v.weight\n",
      "prompt_model.plm.decoder.block.3.layer.1.EncDecAttention.o.weight\n",
      "prompt_model.plm.decoder.block.3.layer.1.layer_norm.weight\n",
      "prompt_model.plm.decoder.block.3.layer.2.DenseReluDense.wi.weight\n",
      "prompt_model.plm.decoder.block.3.layer.2.DenseReluDense.wo.weight\n",
      "prompt_model.plm.decoder.block.3.layer.2.layer_norm.weight\n",
      "prompt_model.plm.decoder.block.4.layer.0.SelfAttention.q.weight\n",
      "prompt_model.plm.decoder.block.4.layer.0.SelfAttention.k.weight\n",
      "prompt_model.plm.decoder.block.4.layer.0.SelfAttention.v.weight\n",
      "prompt_model.plm.decoder.block.4.layer.0.SelfAttention.o.weight\n",
      "prompt_model.plm.decoder.block.4.layer.0.layer_norm.weight\n",
      "prompt_model.plm.decoder.block.4.layer.1.EncDecAttention.q.weight\n",
      "prompt_model.plm.decoder.block.4.layer.1.EncDecAttention.k.weight\n",
      "prompt_model.plm.decoder.block.4.layer.1.EncDecAttention.v.weight\n",
      "prompt_model.plm.decoder.block.4.layer.1.EncDecAttention.o.weight\n",
      "prompt_model.plm.decoder.block.4.layer.1.layer_norm.weight\n",
      "prompt_model.plm.decoder.block.4.layer.2.DenseReluDense.wi.weight\n",
      "prompt_model.plm.decoder.block.4.layer.2.DenseReluDense.wo.weight\n",
      "prompt_model.plm.decoder.block.4.layer.2.layer_norm.weight\n",
      "prompt_model.plm.decoder.block.5.layer.0.SelfAttention.q.weight\n",
      "prompt_model.plm.decoder.block.5.layer.0.SelfAttention.k.weight\n",
      "prompt_model.plm.decoder.block.5.layer.0.SelfAttention.v.weight\n",
      "prompt_model.plm.decoder.block.5.layer.0.SelfAttention.o.weight\n",
      "prompt_model.plm.decoder.block.5.layer.0.layer_norm.weight\n",
      "prompt_model.plm.decoder.block.5.layer.1.EncDecAttention.q.weight\n",
      "prompt_model.plm.decoder.block.5.layer.1.EncDecAttention.k.weight\n",
      "prompt_model.plm.decoder.block.5.layer.1.EncDecAttention.v.weight\n",
      "prompt_model.plm.decoder.block.5.layer.1.EncDecAttention.o.weight\n",
      "prompt_model.plm.decoder.block.5.layer.1.layer_norm.weight\n",
      "prompt_model.plm.decoder.block.5.layer.2.DenseReluDense.wi.weight\n",
      "prompt_model.plm.decoder.block.5.layer.2.DenseReluDense.wo.weight\n",
      "prompt_model.plm.decoder.block.5.layer.2.layer_norm.weight\n",
      "prompt_model.plm.decoder.block.6.layer.0.SelfAttention.q.weight\n",
      "prompt_model.plm.decoder.block.6.layer.0.SelfAttention.k.weight\n",
      "prompt_model.plm.decoder.block.6.layer.0.SelfAttention.v.weight\n",
      "prompt_model.plm.decoder.block.6.layer.0.SelfAttention.o.weight\n",
      "prompt_model.plm.decoder.block.6.layer.0.layer_norm.weight\n",
      "prompt_model.plm.decoder.block.6.layer.1.EncDecAttention.q.weight\n",
      "prompt_model.plm.decoder.block.6.layer.1.EncDecAttention.k.weight\n",
      "prompt_model.plm.decoder.block.6.layer.1.EncDecAttention.v.weight\n",
      "prompt_model.plm.decoder.block.6.layer.1.EncDecAttention.o.weight\n",
      "prompt_model.plm.decoder.block.6.layer.1.layer_norm.weight\n",
      "prompt_model.plm.decoder.block.6.layer.2.DenseReluDense.wi.weight\n",
      "prompt_model.plm.decoder.block.6.layer.2.DenseReluDense.wo.weight\n",
      "prompt_model.plm.decoder.block.6.layer.2.layer_norm.weight\n",
      "prompt_model.plm.decoder.block.7.layer.0.SelfAttention.q.weight\n",
      "prompt_model.plm.decoder.block.7.layer.0.SelfAttention.k.weight\n",
      "prompt_model.plm.decoder.block.7.layer.0.SelfAttention.v.weight\n",
      "prompt_model.plm.decoder.block.7.layer.0.SelfAttention.o.weight\n",
      "prompt_model.plm.decoder.block.7.layer.0.layer_norm.weight\n",
      "prompt_model.plm.decoder.block.7.layer.1.EncDecAttention.q.weight\n",
      "prompt_model.plm.decoder.block.7.layer.1.EncDecAttention.k.weight\n",
      "prompt_model.plm.decoder.block.7.layer.1.EncDecAttention.v.weight\n",
      "prompt_model.plm.decoder.block.7.layer.1.EncDecAttention.o.weight\n",
      "prompt_model.plm.decoder.block.7.layer.1.layer_norm.weight\n",
      "prompt_model.plm.decoder.block.7.layer.2.DenseReluDense.wi.weight\n",
      "prompt_model.plm.decoder.block.7.layer.2.DenseReluDense.wo.weight\n",
      "prompt_model.plm.decoder.block.7.layer.2.layer_norm.weight\n",
      "prompt_model.plm.decoder.block.8.layer.0.SelfAttention.q.weight\n",
      "prompt_model.plm.decoder.block.8.layer.0.SelfAttention.k.weight\n",
      "prompt_model.plm.decoder.block.8.layer.0.SelfAttention.v.weight\n",
      "prompt_model.plm.decoder.block.8.layer.0.SelfAttention.o.weight\n",
      "prompt_model.plm.decoder.block.8.layer.0.layer_norm.weight\n",
      "prompt_model.plm.decoder.block.8.layer.1.EncDecAttention.q.weight\n",
      "prompt_model.plm.decoder.block.8.layer.1.EncDecAttention.k.weight\n",
      "prompt_model.plm.decoder.block.8.layer.1.EncDecAttention.v.weight\n",
      "prompt_model.plm.decoder.block.8.layer.1.EncDecAttention.o.weight\n",
      "prompt_model.plm.decoder.block.8.layer.1.layer_norm.weight\n",
      "prompt_model.plm.decoder.block.8.layer.2.DenseReluDense.wi.weight\n",
      "prompt_model.plm.decoder.block.8.layer.2.DenseReluDense.wo.weight\n",
      "prompt_model.plm.decoder.block.8.layer.2.layer_norm.weight\n",
      "prompt_model.plm.decoder.block.9.layer.0.SelfAttention.q.weight\n",
      "prompt_model.plm.decoder.block.9.layer.0.SelfAttention.k.weight\n",
      "prompt_model.plm.decoder.block.9.layer.0.SelfAttention.v.weight\n",
      "prompt_model.plm.decoder.block.9.layer.0.SelfAttention.o.weight\n",
      "prompt_model.plm.decoder.block.9.layer.0.layer_norm.weight\n",
      "prompt_model.plm.decoder.block.9.layer.1.EncDecAttention.q.weight\n",
      "prompt_model.plm.decoder.block.9.layer.1.EncDecAttention.k.weight\n",
      "prompt_model.plm.decoder.block.9.layer.1.EncDecAttention.v.weight\n",
      "prompt_model.plm.decoder.block.9.layer.1.EncDecAttention.o.weight\n",
      "prompt_model.plm.decoder.block.9.layer.1.layer_norm.weight\n",
      "prompt_model.plm.decoder.block.9.layer.2.DenseReluDense.wi.weight\n",
      "prompt_model.plm.decoder.block.9.layer.2.DenseReluDense.wo.weight\n",
      "prompt_model.plm.decoder.block.9.layer.2.layer_norm.weight\n",
      "prompt_model.plm.decoder.block.10.layer.0.SelfAttention.q.weight\n",
      "prompt_model.plm.decoder.block.10.layer.0.SelfAttention.k.weight\n",
      "prompt_model.plm.decoder.block.10.layer.0.SelfAttention.v.weight\n",
      "prompt_model.plm.decoder.block.10.layer.0.SelfAttention.o.weight\n",
      "prompt_model.plm.decoder.block.10.layer.0.layer_norm.weight\n",
      "prompt_model.plm.decoder.block.10.layer.1.EncDecAttention.q.weight\n",
      "prompt_model.plm.decoder.block.10.layer.1.EncDecAttention.k.weight\n",
      "prompt_model.plm.decoder.block.10.layer.1.EncDecAttention.v.weight\n",
      "prompt_model.plm.decoder.block.10.layer.1.EncDecAttention.o.weight\n",
      "prompt_model.plm.decoder.block.10.layer.1.layer_norm.weight\n",
      "prompt_model.plm.decoder.block.10.layer.2.DenseReluDense.wi.weight\n",
      "prompt_model.plm.decoder.block.10.layer.2.DenseReluDense.wo.weight\n",
      "prompt_model.plm.decoder.block.10.layer.2.layer_norm.weight\n",
      "prompt_model.plm.decoder.block.11.layer.0.SelfAttention.q.weight\n",
      "prompt_model.plm.decoder.block.11.layer.0.SelfAttention.k.weight\n",
      "prompt_model.plm.decoder.block.11.layer.0.SelfAttention.v.weight\n",
      "prompt_model.plm.decoder.block.11.layer.0.SelfAttention.o.weight\n",
      "prompt_model.plm.decoder.block.11.layer.0.layer_norm.weight\n",
      "prompt_model.plm.decoder.block.11.layer.1.EncDecAttention.q.weight\n",
      "prompt_model.plm.decoder.block.11.layer.1.EncDecAttention.k.weight\n",
      "prompt_model.plm.decoder.block.11.layer.1.EncDecAttention.v.weight\n",
      "prompt_model.plm.decoder.block.11.layer.1.EncDecAttention.o.weight\n",
      "prompt_model.plm.decoder.block.11.layer.1.layer_norm.weight\n",
      "prompt_model.plm.decoder.block.11.layer.2.DenseReluDense.wi.weight\n",
      "prompt_model.plm.decoder.block.11.layer.2.DenseReluDense.wo.weight\n",
      "prompt_model.plm.decoder.block.11.layer.2.layer_norm.weight\n",
      "prompt_model.plm.decoder.final_layer_norm.weight\n",
      "prompt_model.template.soft_embedding.weight\n",
      "verbalizer.label_words_ids\n",
      "verbalizer.words_ids_mask\n",
      "verbalizer.label_words_mask\n"
     ]
    },
    {
     "name": "stderr",
     "output_type": "stream",
     "text": [
      "C:\\Users\\cq906\\File\\Anaconda\\anaconda3\\envs\\NLP\\lib\\site-packages\\transformers\\optimization.py:306: FutureWarning: This implementation of AdamW is deprecated and will be removed in a future version. Use the PyTorch implementation torch.optim.AdamW instead, or set `no_deprecation_warning=True` to disable this warning\n",
      "  warnings.warn(\n"
     ]
    }
   ],
   "source": [
    "for n,p in prompt_model.named_parameters():\n",
    "    print(n)\n",
    "optimizer1 = AdamW(optimizer_grouped_parameters1, lr=1e-4)\n",
    "optimizer2 = AdamW(optimizer_grouped_parameters2, lr=1e-3)"
   ],
   "metadata": {
    "collapsed": false
   }
  },
  {
   "cell_type": "code",
   "execution_count": 15,
   "outputs": [
    {
     "name": "stderr",
     "output_type": "stream",
     "text": [
      "100%|██████████| 32/32 [00:10<00:00,  2.92it/s]\n"
     ]
    },
    {
     "name": "stdout",
     "output_type": "stream",
     "text": [
      "Training Loss: 0.516750\n"
     ]
    },
    {
     "name": "stderr",
     "output_type": "stream",
     "text": [
      "100%|██████████| 32/32 [00:10<00:00,  3.13it/s]\n"
     ]
    },
    {
     "name": "stdout",
     "output_type": "stream",
     "text": [
      "Training Loss: 0.084385\n"
     ]
    },
    {
     "name": "stderr",
     "output_type": "stream",
     "text": [
      "100%|██████████| 32/32 [00:10<00:00,  3.13it/s]\n"
     ]
    },
    {
     "name": "stdout",
     "output_type": "stream",
     "text": [
      "Training Loss: 0.022404\n"
     ]
    },
    {
     "name": "stderr",
     "output_type": "stream",
     "text": [
      "100%|██████████| 32/32 [00:10<00:00,  3.12it/s]\n"
     ]
    },
    {
     "name": "stdout",
     "output_type": "stream",
     "text": [
      "Training Loss: 0.002155\n"
     ]
    },
    {
     "name": "stderr",
     "output_type": "stream",
     "text": [
      "100%|██████████| 32/32 [00:10<00:00,  3.15it/s]\n"
     ]
    },
    {
     "name": "stdout",
     "output_type": "stream",
     "text": [
      "Training Loss: 0.001074\n"
     ]
    },
    {
     "name": "stderr",
     "output_type": "stream",
     "text": [
      "100%|██████████| 32/32 [00:10<00:00,  3.17it/s]\n"
     ]
    },
    {
     "name": "stdout",
     "output_type": "stream",
     "text": [
      "Training Loss: 0.000452\n"
     ]
    },
    {
     "name": "stderr",
     "output_type": "stream",
     "text": [
      "100%|██████████| 32/32 [00:10<00:00,  3.15it/s]\n"
     ]
    },
    {
     "name": "stdout",
     "output_type": "stream",
     "text": [
      "Training Loss: 0.000317\n"
     ]
    },
    {
     "name": "stderr",
     "output_type": "stream",
     "text": [
      "100%|██████████| 32/32 [00:10<00:00,  3.13it/s]\n"
     ]
    },
    {
     "name": "stdout",
     "output_type": "stream",
     "text": [
      "Training Loss: 0.000230\n"
     ]
    },
    {
     "name": "stderr",
     "output_type": "stream",
     "text": [
      "100%|██████████| 32/32 [00:10<00:00,  3.13it/s]\n"
     ]
    },
    {
     "name": "stdout",
     "output_type": "stream",
     "text": [
      "Training Loss: 0.000175\n"
     ]
    },
    {
     "name": "stderr",
     "output_type": "stream",
     "text": [
      "100%|██████████| 32/32 [00:10<00:00,  3.12it/s]"
     ]
    },
    {
     "name": "stdout",
     "output_type": "stream",
     "text": [
      "Training Loss: 0.000140\n"
     ]
    },
    {
     "name": "stderr",
     "output_type": "stream",
     "text": [
      "\n"
     ]
    }
   ],
   "source": [
    "from tqdm import tqdm\n",
    "loss_list=[]\n",
    "for epoch in range(10):\n",
    "    tot_loss = 0\n",
    "    for step, inputs in enumerate(tqdm(train_dataloader)):\n",
    "        if use_cuda:\n",
    "            inputs = inputs.cuda()\n",
    "        logits = prompt_model(inputs)\n",
    "        labels = inputs['label']\n",
    "        loss = loss_func(logits, labels)\n",
    "        loss.backward()\n",
    "        tot_loss += loss.item()\n",
    "        optimizer1.step()\n",
    "        optimizer1.zero_grad()\n",
    "        optimizer2.step()\n",
    "        optimizer2.zero_grad()\n",
    "        loss_list.append(loss.item())\n",
    "    tot_loss=tot_loss/len(train_dataloader)\n",
    "    print('Training Loss: {:.6f}'.format(tot_loss))"
   ],
   "metadata": {
    "collapsed": false
   }
  },
  {
   "cell_type": "code",
   "execution_count": 16,
   "outputs": [
    {
     "data": {
      "text/plain": "[<matplotlib.lines.Line2D at 0x1e5a32bad00>]"
     },
     "execution_count": 16,
     "metadata": {},
     "output_type": "execute_result"
    },
    {
     "data": {
      "text/plain": "<Figure size 1280x960 with 1 Axes>",
      "image/png": "[encoded data removed]"
     },
     "metadata": {},
     "output_type": "display_data"
    }
   ],
   "source": [
    "import matplotlib.pyplot as plt\n",
    "plt.figure(dpi=200)\n",
    "plt.rcParams['font.family']='serif'\n",
    "plt.plot(range(len(loss_list)),loss_list)"
   ],
   "metadata": {
    "collapsed": false
   }
  },
  {
   "cell_type": "code",
   "execution_count": 17,
   "outputs": [
    {
     "name": "stderr",
     "output_type": "stream",
     "text": [
      "100%|██████████| 7/7 [00:00<00:00, 11.05it/s]\n"
     ]
    }
   ],
   "source": [
    "allpreds = []\n",
    "alllabels = []\n",
    "for step, inputs in enumerate(tqdm(validation_dataloader)):\n",
    "    if use_cuda:\n",
    "        inputs = inputs.cuda()\n",
    "    logits = prompt_model(inputs)\n",
    "    labels = inputs['label']\n",
    "    alllabels.extend(labels.cpu().tolist())\n",
    "    allpreds.extend(torch.argmax(logits, dim=-1).cpu().tolist())"
   ],
   "metadata": {
    "collapsed": false
   }
  },
  {
   "cell_type": "code",
   "execution_count": 18,
   "outputs": [
    {
     "name": "stdout",
     "output_type": "stream",
     "text": [
      "0.8214285714285714\n"
     ]
    }
   ],
   "source": [
    "acc = sum([int(i==j) for i,j in zip(allpreds, alllabels)])/len(allpreds)\n",
    "print(acc)"
   ],
   "metadata": {
    "collapsed": false
   }
  }
 ],
 "metadata": {
  "kernelspec": {
   "display_name": "Python 3",
   "language": "python",
   "name": "python3"
  },
  "language_info": {
   "codemirror_mode": {
    "name": "ipython",
    "version": 2
   },
   "file_extension": ".py",
   "mimetype": "text/x-python",
   "name": "python",
   "nbconvert_exporter": "python",
   "pygments_lexer": "ipython2",
   "version": "2.7.6"
  }
 },
 "nbformat": 4,
 "nbformat_minor": 0
}
